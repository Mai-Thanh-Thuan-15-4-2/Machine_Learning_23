{
  "cells": [
    {
      "cell_type": "markdown",
      "metadata": {
        "id": "view-in-github",
        "colab_type": "text"
      },
      "source": [
        "<a href=\"https://colab.research.google.com/github/Mai-Thanh-Thuan-15-4-2/Machine_Learning_23/blob/main/lab_5_20130127_maithanhthuan.ipynb\" target=\"_parent\"><img src=\"https://colab.research.google.com/assets/colab-badge.svg\" alt=\"Open In Colab\"/></a>"
      ]
    },
    {
      "cell_type": "markdown",
      "metadata": {
        "id": "LMzehe0sy5wr"
      },
      "source": [
        "# This lab is to deal with **SVM** to classification tasks and compare its performance with other competitive algorithms. In general, **SVM** is one of the most popular and widely used supervised machine learning algorithms.\n",
        "\n",
        "*   **Deadline: 23:59, 17/03/2023**\n",
        "\n"
      ]
    },
    {
      "cell_type": "markdown",
      "metadata": {
        "id": "H4nJmxp9zGX4"
      },
      "source": [
        "# Import libraries"
      ]
    },
    {
      "cell_type": "markdown",
      "metadata": {
        "id": "7FWaT85QmF6z"
      },
      "source": []
    },
    {
      "cell_type": "code",
      "execution_count": null,
      "metadata": {
        "id": "DoVWQ8AEyc-C"
      },
      "outputs": [],
      "source": [
        "# code\n",
        "from sklearn.svm import SVC\n",
        "from sklearn import datasets\n",
        "import pandas as pd\n",
        "from prettytable import PrettyTable\n",
        "from sklearn.datasets import load_iris\n",
        "from sklearn.datasets import load_digits\n",
        "from sklearn.linear_model import LogisticRegression\n",
        "from sklearn.tree import DecisionTreeClassifier\n",
        "from sklearn.neighbors import KNeighborsClassifier\n",
        "from sklearn.model_selection import train_test_split\n",
        "from sklearn import svm\n",
        "from sklearn.metrics import accuracy_score, precision_score, recall_score, f1_score, confusion_matrix, classification_report\n"
      ]
    },
    {
      "cell_type": "code",
      "execution_count": null,
      "metadata": {
        "colab": {
          "base_uri": "https://localhost:8080/"
        },
        "id": "qgd7I8XrmoJ4",
        "outputId": "146f8584-a8f9-44b9-fda4-199326c53aa6"
      },
      "outputs": [
        {
          "output_type": "stream",
          "name": "stdout",
          "text": [
            "Mounted at /content/gdrive\n",
            "/content/gdrive/MyDrive/20130127_MaiThanhThuan\n"
          ]
        }
      ],
      "source": [
        "from google.colab import drive\n",
        "drive.mount('/content/gdrive')\n",
        "%cd '/content/gdrive/MyDrive/20130127_MaiThanhThuan'"
      ]
    },
    {
      "cell_type": "markdown",
      "metadata": {
        "id": "kNv07ARGzOUm"
      },
      "source": [
        "#Task 1. \n",
        "For breast cancer dataset (https://tinyurl.com/3vme8hr3) which could be loaded from datasets in sklearn as follows:\n",
        "\n",
        "```\n",
        "#Import scikit-learn dataset library\n",
        "from sklearn import datasets\n",
        "\n",
        "#Load dataset\n",
        "cancer = datasets.load_breast_cancer()\n",
        "```\n",
        "\n",
        "*   1.1.\tApply SVM algorithm to above dataset using linear kernel.\n",
        "*   1.2.\tCompare the obtained results with other competitive algorithms (Logistic Regression, Decision Tree, kNN) based on metrics: accuracy, precision, recall, f1 measures.\n",
        "\n"
      ]
    },
    {
      "cell_type": "code",
      "execution_count": null,
      "metadata": {
        "id": "rXCBFF8hpIst"
      },
      "outputs": [],
      "source": [
        "# Load dataset\n",
        "cancer = datasets.load_breast_cancer()\n",
        "# print(cancer)"
      ]
    },
    {
      "cell_type": "code",
      "execution_count": null,
      "metadata": {
        "colab": {
          "base_uri": "https://localhost:8080/"
        },
        "id": "sOsg77IBzEyo",
        "outputId": "f6f3350e-cb9f-435a-d703-e953cfb0d659"
      },
      "outputs": [
        {
          "name": "stdout",
          "output_type": "stream",
          "text": [
            "Accuracy:  0.96\n",
            "Precision:  0.96\n",
            "Recall:  0.99\n",
            "F1 Score:  0.97\n"
          ]
        }
      ],
      "source": [
        "\n",
        "X_train, X_test, y_train, y_test = train_test_split(cancer.data, cancer.target, test_size=0.2)\n",
        "\n",
        "model_svm = svm.SVC(kernel='linear')\n",
        "\n",
        "model_svm.fit(X_train, y_train)\n",
        "\n",
        "y_pred = model_svm.predict(X_test)\n",
        "print(\"Accuracy: \", round(accuracy_score(y_test, y_pred), 2))\n",
        "print(\"Precision: \", round(precision_score(y_test, y_pred), 2))\n",
        "print(\"Recall: \", round(recall_score(y_test, y_pred), 2))\n",
        "print(\"F1 Score: \", round(f1_score(y_test, y_pred),2))\n"
      ]
    },
    {
      "cell_type": "markdown",
      "metadata": {
        "id": "S43IoUT-0OQq"
      },
      "source": [
        "#Task 2. \n",
        "\n",
        "*   1.1.\tPerform SVM algorithm to **Iris dataset** using **linear kernel**.\n",
        "*   1.2.\tCompare the obtained results in 1.1 with SVM using other kernels (**Polynomial Kernel, Gaussian Kernel, Sigmoid Kernel, Radial Basis Function Kernel**). Some metrics could be used: accuracy, precision, recall, f1 measures\n",
        "\n",
        "\n",
        "\n"
      ]
    },
    {
      "cell_type": "code",
      "execution_count": null,
      "metadata": {
        "colab": {
          "base_uri": "https://localhost:8080/"
        },
        "id": "_xhPpF5b033h",
        "outputId": "ffdfc89d-eb75-468b-a816-50876699f626"
      },
      "outputs": [
        {
          "name": "stdout",
          "output_type": "stream",
          "text": [
            "Accuracy score: 0.9666666666666667\n",
            "Classification report:               precision    recall  f1-score   support\n",
            "\n",
            "           0       1.00      1.00      1.00        10\n",
            "           1       1.00      0.88      0.93         8\n",
            "           2       0.92      1.00      0.96        12\n",
            "\n",
            "    accuracy                           0.97        30\n",
            "   macro avg       0.97      0.96      0.96        30\n",
            "weighted avg       0.97      0.97      0.97        30\n",
            "\n",
            "Confusion matrix: [[10  0  0]\n",
            " [ 0  7  1]\n",
            " [ 0  0 12]]\n"
          ]
        }
      ],
      "source": [
        "# code\n",
        "from numpy.lib.function_base import average\n",
        "data = datasets.load_iris()\n",
        "iris = load_iris()\n",
        "\n",
        "X = iris.data\n",
        "y = iris.target\n",
        "X_train, X_test, y_train, y_test = train_test_split(X, y, test_size=0.2)\n",
        "clf = svm.SVC(kernel='linear')\n",
        "\n",
        "clf.fit(X_train, y_train)\n",
        "\n",
        "y_pred = clf.predict(X_test)\n",
        "print('Accuracy score:', accuracy_score(y_test, y_pred))\n",
        "print('Classification report:', classification_report(y_test, y_pred))\n",
        "print('Confusion matrix:', confusion_matrix(y_test, y_pred))\n",
        "average = 'macro'"
      ]
    },
    {
      "cell_type": "markdown",
      "metadata": {
        "id": "-5e66YIToLZk"
      },
      "source": [
        "#Task 3. \n",
        "Compare the performance of selected classification algorithms (Decision Tree, kNN, Logistic Regression) and SVM (using different kernels) with mnist dataset based on accuracy, precision, recall, f1 measures.\n"
      ]
    },
    {
      "cell_type": "code",
      "execution_count": null,
      "metadata": {
        "colab": {
          "base_uri": "https://localhost:8080/"
        },
        "id": "UqwnQWShmgCN",
        "outputId": "b591fdf6-299d-4b44-da24-bc496f0a1c8d"
      },
      "outputs": [
        {
          "name": "stderr",
          "output_type": "stream",
          "text": [
            "/usr/local/lib/python3.9/dist-packages/sklearn/linear_model/_logistic.py:458: ConvergenceWarning: lbfgs failed to converge (status=1):\n",
            "STOP: TOTAL NO. of ITERATIONS REACHED LIMIT.\n",
            "\n",
            "Increase the number of iterations (max_iter) or scale the data as shown in:\n",
            "    https://scikit-learn.org/stable/modules/preprocessing.html\n",
            "Please also refer to the documentation for alternative solver options:\n",
            "    https://scikit-learn.org/stable/modules/linear_model.html#logistic-regression\n",
            "  n_iter_i = _check_optimize_result(\n"
          ]
        }
      ],
      "source": [
        "mnist = datasets.load_digits()\n",
        "digits = load_digits()\n",
        "\n",
        "X = digits.data\n",
        "y = digits.target\n",
        "\n",
        "X_train, X_test, y_train, y_test = train_test_split(X, y, test_size=0.2, random_state=42)\n",
        "\n",
        "# Decision Tree\n",
        "dec = DecisionTreeClassifier(random_state=42)\n",
        "dec.fit(X_train, y_train)\n",
        "y_pred_dec = dec.predict(X_test)\n",
        "\n",
        "# Knn\n",
        "knn = KNeighborsClassifier(n_neighbors=7)\n",
        "knn.fit(X_train, y_train)\n",
        "y_pred_knn = knn.predict(X_test)\n",
        "\n",
        "# Logistic Regression\n",
        "lr = LogisticRegression(random_state=42)\n",
        "lr.fit(X_train, y_train)\n",
        "y_pred_lr = lr.predict(X_test)\n",
        "\n",
        "# SVM-linear\n",
        "svm_1 = SVC(kernel='linear', random_state=42)\n",
        "svm_1.fit(X_train, y_train)\n",
        "y_pred_svm_1 = svm_1.predict(X_test)\n",
        "\n",
        "# SVM-poly\n",
        "svm_2 = SVC(kernel='poly', degree=3, random_state=42)\n",
        "svm_2.fit(X_train, y_train)\n",
        "y_pred_svm_2 = svm_2.predict(X_test)\n",
        "\n",
        "# SVM-rbf\n",
        "svm_3 = SVC(kernel='rbf', gamma=0.05, C=10, random_state=42)\n",
        "svm_3.fit(X_train, y_train)\n",
        "y_pred_svm_3 = svm_3.predict(X_test)\n"
      ]
    },
    {
      "cell_type": "code",
      "execution_count": null,
      "metadata": {
        "colab": {
          "base_uri": "https://localhost:8080/"
        },
        "id": "tK832iujzIVR",
        "outputId": "4a04f818-6e9f-4ef8-8725-439f8d706fcc"
      },
      "outputs": [
        {
          "name": "stdout",
          "output_type": "stream",
          "text": [
            "+---------------------+----------+-----------+--------+------+\n",
            "|      Algorithms     | Accuracy | Precision | Recall |  F1  |\n",
            "+---------------------+----------+-----------+--------+------+\n",
            "|         kNN         |   0.99   |    0.99   |  0.99  | 0.99 |\n",
            "| Logistic Regression |   0.97   |    0.97   |  0.97  | 0.97 |\n",
            "|    Decision Tree    |   0.84   |    0.85   |  0.84  | 0.84 |\n",
            "|        SVM_1        |   0.98   |    0.98   |  0.98  | 0.98 |\n",
            "|        SVM_2        |   0.99   |    0.99   |  0.99  | 0.99 |\n",
            "|        SVM_3        |   0.08   |    0.01   |  0.08  | 0.01 |\n",
            "+---------------------+----------+-----------+--------+------+\n"
          ]
        },
        {
          "name": "stderr",
          "output_type": "stream",
          "text": [
            "/usr/local/lib/python3.9/dist-packages/sklearn/metrics/_classification.py:1344: UndefinedMetricWarning: Precision is ill-defined and being set to 0.0 in labels with no predicted samples. Use `zero_division` parameter to control this behavior.\n",
            "  _warn_prf(average, modifier, msg_start, len(result))\n"
          ]
        }
      ],
      "source": [
        "t = PrettyTable(['Algorithms','Accuracy', 'Precision', 'Recall', 'F1'])\n",
        "t.add_row(['kNN', round(accuracy_score(y_test,y_pred_knn),2), round(precision_score(y_test, y_pred_knn, average='weighted'),2), round(recall_score(y_test, y_pred_knn, average='weighted'),2), round(f1_score(y_test, y_pred_knn, average='weighted'),2)])\n",
        "t.add_row(['Logistic Regression', round(accuracy_score(y_test,y_pred_lr),2),round(precision_score(y_test, y_pred_lr, average='weighted'),2), round(recall_score(y_test, y_pred_lr, average='weighted'),2), round(f1_score(y_test, y_pred_lr, average='weighted'),2)])\n",
        "t.add_row(['Decision Tree', round(accuracy_score(y_test,y_pred_dec),2), round(precision_score(y_test, y_pred_dec, average='weighted'),2), round(recall_score(y_test, y_pred_dec, average='weighted'),2), round(f1_score(y_test, y_pred_dec, average='weighted'),2)])\n",
        "t.add_row(['SVM_1', round(accuracy_score(y_test,y_pred_svm_1),2), round(precision_score(y_test, y_pred_svm_1, average='weighted'),2), round(recall_score(y_test, y_pred_svm_1, average='weighted'),2), round(f1_score(y_test, y_pred_svm_1, average='weighted'),2)])\n",
        "t.add_row(['SVM_2', round(accuracy_score(y_test,y_pred_svm_2),2), round(precision_score(y_test, y_pred_svm_2, average='weighted'),2), round(recall_score(y_test, y_pred_svm_2, average='weighted'),2), round(f1_score(y_test, y_pred_svm_2, average='weighted'),2)])\n",
        "t.add_row(['SVM_3', round(accuracy_score(y_test,y_pred_svm_3),2), round(precision_score(y_test, y_pred_svm_3, average='weighted'),2), round(recall_score(y_test, y_pred_svm_3, average='weighted'),2), round(f1_score(y_test, y_pred_svm_3, average='weighted'),2)])\n",
        "print(t)"
      ]
    },
    {
      "cell_type": "code",
      "execution_count": null,
      "metadata": {
        "colab": {
          "base_uri": "https://localhost:8080/"
        },
        "id": "PJnybKpg26mV",
        "outputId": "7073cb16-61db-4e00-dd0c-e20f02d48931"
      },
      "outputs": [
        {
          "name": "stdout",
          "output_type": "stream",
          "text": [
            "              precision    recall  f1-score   support\n",
            "\n",
            "           0       1.00      0.85      0.92        46\n",
            "           1       0.91      1.00      0.95        68\n",
            "\n",
            "    accuracy                           0.94       114\n",
            "   macro avg       0.95      0.92      0.93       114\n",
            "weighted avg       0.94      0.94      0.94       114\n",
            "\n"
          ]
        }
      ],
      "source": [
        "from sklearn import metrics\n",
        "print(metrics.classification_report(y_test, y_pred))"
      ]
    },
    {
      "cell_type": "markdown",
      "metadata": {
        "id": "Z5pp7_h-aP2u"
      },
      "source": [
        "#Task 4. \n",
        "Compare the performance of selected classification algorithms (Decision Tree, kNN, Logistic Regression) and SVM (using different kernels) with **credit card dataset** based on accuracy, precision, recall, f1 measures.\n",
        "\n",
        "*   Give some comments on the obtained results\n",
        "*   Identify issues with dataset, and propose the solutions to these issues\n",
        "\n"
      ]
    },
    {
      "cell_type": "code",
      "execution_count": null,
      "metadata": {
        "id": "Rw_-8FIf2KxW"
      },
      "outputs": [],
      "source": [
        "# code\n",
        "dataset = pd.read_csv('/content/gdrive/MyDrive/20130127_MaiThanhThuan/creditcard.csv')\n",
        "data = dataset.iloc[:len(dataset)//2]"
      ]
    },
    {
      "cell_type": "code",
      "execution_count": null,
      "metadata": {
        "id": "rVkBmDRds22X"
      },
      "outputs": [],
      "source": [
        "x = data.iloc[:, :-1]\n",
        "y = data['Class']\n",
        "x_train, x_test, y_train, y_test = train_test_split(x, y, test_size=0.2, random_state=42)\n"
      ]
    },
    {
      "cell_type": "code",
      "execution_count": null,
      "metadata": {
        "colab": {
          "base_uri": "https://localhost:8080/"
        },
        "id": "gUBr2pW-uK34",
        "outputId": "311b9b22-f9ea-4717-882f-3527b98402e6"
      },
      "outputs": [
        {
          "output_type": "stream",
          "name": "stderr",
          "text": [
            "/usr/local/lib/python3.9/dist-packages/sklearn/linear_model/_logistic.py:458: ConvergenceWarning: lbfgs failed to converge (status=1):\n",
            "STOP: TOTAL NO. of ITERATIONS REACHED LIMIT.\n",
            "\n",
            "Increase the number of iterations (max_iter) or scale the data as shown in:\n",
            "    https://scikit-learn.org/stable/modules/preprocessing.html\n",
            "Please also refer to the documentation for alternative solver options:\n",
            "    https://scikit-learn.org/stable/modules/linear_model.html#logistic-regression\n",
            "  n_iter_i = _check_optimize_result(\n"
          ]
        }
      ],
      "source": [
        "# Decision Tree\n",
        "dec = DecisionTreeClassifier(random_state=42)\n",
        "dec.fit(x_train, y_train)\n",
        "y_pred_dec = dec.predict(x_test)\n",
        "\n",
        "# Knn\n",
        "knn = KNeighborsClassifier(n_neighbors=5)\n",
        "knn.fit(x_train, y_train)\n",
        "y_pred_knn = knn.predict(x_test)\n",
        "\n",
        "# Logistic Regression\n",
        "lr = LogisticRegression(random_state=42)\n",
        "lr.fit(x_train, y_train)\n",
        "y_pred_lr = lr.predict(x_test)\n",
        "\n",
        "# SVM with Linear \n",
        "svm_l = SVC(kernel=\"linear\", random_state=42)\n",
        "svm_l.fit(x_train, y_train)\n",
        "y_pred_svml = svm_l.predict(x_test)\n",
        "\n",
        "# SVM rbf\n",
        "svm_r = SVC(kernel='rbf', gamma='scale', C=30, probability=True, random_state=42)\n",
        "svm_r.fit(x_train, y_train)\n",
        "y_pred_svmr = svm_r.predict(x_test)\n",
        "\n",
        "\n"
      ]
    },
    {
      "cell_type": "code",
      "execution_count": null,
      "metadata": {
        "id": "iF-MscgtvQE4",
        "colab": {
          "base_uri": "https://localhost:8080/"
        },
        "outputId": "56d68f23-ce27-4ad6-9511-02b482a07ad4"
      },
      "outputs": [
        {
          "output_type": "stream",
          "name": "stdout",
          "text": [
            "Decision Tree\n",
            "Accuracy: 0.9991\n",
            "Precision: 0.9992\n",
            "Recall: 0.9991\n",
            "F1-score: 0.9991\n",
            "\n",
            "Knn:\n",
            "Accuracy: 0.9982\n",
            "Precision: 0.9982\n",
            "Recall: 0.9982\n",
            "F1-score: 0.9974\n",
            "\n",
            "Logistic Regression:\n",
            "Accuracy: 0.9988\n",
            "Precision: 0.9988\n",
            "Recall: 0.9988\n",
            "F1-score: 0.9988\n",
            "\n",
            "SVM linear:\n",
            "Accuracy: 0.9986\n",
            "Precision: 0.9985\n",
            "Recall: 0.9986\n",
            "F1-score: 0.9985\n",
            "\n"
          ]
        }
      ],
      "source": [
        "print(\"Decision Tree\")\n",
        "print(\"Accuracy: {:.4}\".format(accuracy_score(y_test, y_pred_dec)))\n",
        "print(\"Precision: {:.4}\".format(precision_score(y_test, y_pred_dec, average='weighted')))\n",
        "print(\"Recall: {:.4}\".format(recall_score(y_test, y_pred_dec, average='weighted')))\n",
        "print(\"F1-score: {:.4}\".format(f1_score(y_test, y_pred_dec, average='weighted')))\n",
        "print()\n",
        "\n",
        "print(\"Knn:\")\n",
        "print(\"Accuracy: {:.4}\".format(accuracy_score(y_test, y_pred_knn)))\n",
        "print(\"Precision: {:.4}\".format(precision_score(y_test, y_pred_knn, average='weighted')))\n",
        "print(\"Recall: {:.4}\".format(recall_score(y_test, y_pred_knn, average='weighted')))\n",
        "print(\"F1-score: {:.4}\".format(f1_score(y_test, y_pred_knn, average='weighted')))\n",
        "print()\n",
        "\n",
        "print(\"Logistic Regression:\")\n",
        "print(\"Accuracy: {:.4}\".format(accuracy_score(y_test, y_pred_lr)))\n",
        "print(\"Precision: {:.4}\".format(precision_score(y_test, y_pred_lr, average='weighted')))\n",
        "print(\"Recall: {:.4}\".format(recall_score(y_test, y_pred_lr, average='weighted')))\n",
        "print(\"F1-score: {:.4}\".format(f1_score(y_test, y_pred_lr, average='weighted')))\n",
        "print()\n",
        "\n",
        "print(\"SVM linear:\")\n",
        "print(\"Accuracy: {:.4}\".format(accuracy_score(y_test, y_pred_svml)))\n",
        "print(\"Precision: {:.4}\".format(precision_score(y_test, y_pred_svml, average='weighted')))\n",
        "print(\"Recall: {:.4}\".format(recall_score(y_test, y_pred_svml, average='weighted')))\n",
        "print(\"F1-score: {:.4}\".format(f1_score(y_test, y_pred_svml, average='weighted')))\n",
        "print()"
      ]
    },
    {
      "cell_type": "markdown",
      "metadata": {
        "id": "Ok7RGkea_b7n"
      },
      "source": [
        "#Finally,\n",
        "Save a copy in your Github. Remember renaming the notebook."
      ]
    }
  ],
  "metadata": {
    "colab": {
      "provenance": [],
      "include_colab_link": true
    },
    "kernelspec": {
      "display_name": "Python 3",
      "name": "python3"
    },
    "language_info": {
      "name": "python"
    }
  },
  "nbformat": 4,
  "nbformat_minor": 0
}